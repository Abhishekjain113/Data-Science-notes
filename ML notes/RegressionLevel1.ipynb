{
 "cells": [
  {
   "cell_type": "markdown",
   "metadata": {},
   "source": [
    "Q1. Explain the difference between simple linear regression and multiple linear regression. Provide an\n",
    "example of each.\n",
    "<br>\n",
    "Ans.Simple linear regression involves a single independent variable. Multiple linear regression involves multiple independent variables.\n",
    "<br>\n",
    "\n",
    "Example of Simple linear regresssion realtionship b/w hours studied and exam score.\n",
    "<br>\n",
    "Example of Multiple linear regression predicting a house price (dependent varible) based on factor like square footage, no of bedrooms and location (independent variables).\n",
    " "
   ]
  },
  {
   "cell_type": "markdown",
   "metadata": {},
   "source": [
    "Q2. Discuss the assumptions of linear regression. How can you check whether these assumptions hold in\n",
    "a given dataset?\n",
    "<br>\n",
    "Ans. Asumptions of linear regression are:\n",
    "1. Linearity -> the relationship b/w independent and dependent variables sholud be linear.\n",
    "2. Homoscedasticity-> variance of residuals is constant acorss of levels of a independent varible\n",
    "3. Multivariate normality- > residulas are normally distributed\n",
    "4. Independence of errors -> residuals are independent of each other\n",
    "5. Lack of multicollinearity ->independent varible should not be a high correlated to each other\n",
    "<br>\n",
    "\n",
    "To check wheter these assumptions hold in a given datasets\n",
    "<br>\n",
    "We can use scatter plot, Residules plot, VIF etc."
   ]
  },
  {
   "cell_type": "markdown",
   "metadata": {},
   "source": [
    "Q3. How do you interpret the slope and intercept in a linear regression model? Provide an example using\n",
    "a real-world scenario\n",
    "<br>\n",
    "Ans.In Linear regression we can interpret the slope and intercept of line by using a eq of line\n",
    "<br>\n",
    "y=mx+c\n",
    "1. m -> slope of line represent the change in the dependent varible for one unit in the independent varible\n",
    "2. c -> interpret of line where  independent varible is zero so value of dependent variable \n",
    "<br>\n",
    "\n",
    "Let's consider a real-world scenario where we want to predict the sales of a product based on the advertising budget spent on TV. In a linear regression model, the equation might look like this: sales = 50 + 0.5 * TV_budget. \n",
    " \n",
    "Interpretation: \n",
    "- The intercept (50) represents the expected sales when the TV advertising budget is zero. \n",
    "- The slope (0.5) indicates that for every additional unit increase in the TV advertising budget, sales are expected to increase by 0.5 units. \n",
    " \n",
    "Therefore, in this example, the intercept represents the baseline sales without any advertising, and the slope represents the impact of TV advertising on sales."
   ]
  },
  {
   "cell_type": "markdown",
   "metadata": {},
   "source": [
    "Q3. How do you interpret the slope and intercept in a linear regression model? Provide an example using\n",
    "a real-world scenario\n",
    "<br>\n",
    "Ans.In Linear regression we can interpret the slope and intercept of line by using a eq of line\n",
    "<br>\n",
    "y=mx+c\n",
    "1. m -> slope of line represent the change in the dependent varible for one unit in the independent varible\n",
    "2. c -> interpret of line where  independent varible is zero so value of dependent variable \n",
    "<br>\n",
    "\n",
    "Let's consider a real-world scenario where we want to predict the sales of a product based on the advertising budget spent on TV. In a linear regression model, the equation might look like this: sales = 50 + 0.5 * TV_budget. \n",
    " \n",
    "Interpretation: \n",
    "- The intercept (50) represents the expected sales when the TV advertising budget is zero. \n",
    "- The slope (0.5) indicates that for every additional unit increase in the TV advertising budget, sales are expected to increase by 0.5 units. \n",
    " \n",
    "Therefore, in this example, the intercept represents the baseline sales without any advertising, and the slope represents the impact of TV advertising on sales."
   ]
  },
  {
   "cell_type": "markdown",
   "metadata": {},
   "source": [
    "Q3. How do you interpret the slope and intercept in a linear regression model? Provide an example using\n",
    "a real-world scenario\n",
    "<br>\n",
    "Ans.In Linear regression we can interpret the slope and intercept of line by using a eq of line\n",
    "<br>\n",
    "y=mx+c\n",
    "1. m -> slope of line represent the change in the dependent varible for one unit in the independent varible\n",
    "2. c -> interpret of line where  independent varible is zero so value of dependent variable \n",
    "<br>\n",
    "\n",
    "Let's consider a real-world scenario where we want to predict the sales of a product based on the advertising budget spent on TV. In a linear regression model, the equation might look like this: sales = 50 + 0.5 * TV_budget. \n",
    " \n",
    "Interpretation: \n",
    "- The intercept (50) represents the expected sales when the TV advertising budget is zero. \n",
    "- The slope (0.5) indicates that for every additional unit increase in the TV advertising budget, sales are expected to increase by 0.5 units. \n",
    " \n",
    "Therefore, in this example, the intercept represents the baseline sales without any advertising, and the slope represents the impact of TV advertising on sales."
   ]
  },
  {
   "cell_type": "markdown",
   "metadata": {},
   "source": [
    "Q3. How do you interpret the slope and intercept in a linear regression model? Provide an example using\n",
    "a real-world scenario\n",
    "<br>\n",
    "Ans.In Linear regression we can interpret the slope and intercept of line by using a eq of line\n",
    "<br>\n",
    "y=mx+c\n",
    "1. m -> slope of line represent the change in the dependent varible for one unit in the independent varible\n",
    "2. c -> interpret of line where  independent varible is zero so value of dependent variable \n",
    "<br>\n",
    "\n",
    "Let's consider a real-world scenario where we want to predict the sales of a product based on the advertising budget spent on TV. In a linear regression model, the equation might look like this: sales = 50 + 0.5 * TV_budget. \n",
    " \n",
    "Interpretation: \n",
    "- The intercept (50) represents the expected sales when the TV advertising budget is zero. \n",
    "- The slope (0.5) indicates that for every additional unit increase in the TV advertising budget, sales are expected to increase by 0.5 units. \n",
    " \n",
    "Therefore, in this example, the intercept represents the baseline sales without any advertising, and the slope represents the impact of TV advertising on sales."
   ]
  },
  {
   "cell_type": "markdown",
   "metadata": {},
   "source": [
    "Q3. How do you interpret the slope and intercept in a linear regression model? Provide an example using\n",
    "a real-world scenario\n",
    "<br>\n",
    "Ans.In Linear regression we can interpret the slope and intercept of line by using a eq of line\n",
    "<br>\n",
    "y=mx+c\n",
    "1. m -> slope of line represent the change in the dependent varible for one unit in the independent varible\n",
    "2. c -> interpret of line where  independent varible is zero so value of dependent variable \n",
    "<br>\n",
    "\n",
    "Let's consider a real-world scenario where we want to predict the sales of a product based on the advertising budget spent on TV. In a linear regression model, the equation might look like this: sales = 50 + 0.5 * TV_budget. \n",
    " \n",
    "Interpretation: \n",
    "- The intercept (50) represents the expected sales when the TV advertising budget is zero. \n",
    "- The slope (0.5) indicates that for every additional unit increase in the TV advertising budget, sales are expected to increase by 0.5 units. \n",
    " \n",
    "Therefore, in this example, the intercept represents the baseline sales without any advertising, and the slope represents the impact of TV advertising on sales."
   ]
  },
  {
   "cell_type": "markdown",
   "metadata": {},
   "source": [
    "Q3. How do you interpret the slope and intercept in a linear regression model? Provide an example using\n",
    "a real-world scenario\n",
    "<br>\n",
    "Ans.In Linear regression we can interpret the slope and intercept of line by using a eq of line\n",
    "<br>\n",
    "y=mx+c\n",
    "1. m -> slope of line represent the change in the dependent varible for one unit in the independent varible\n",
    "2. c -> interpret of line where  independent varible is zero so value of dependent variable \n",
    "<br>\n",
    "\n",
    "Let's consider a real-world scenario where we want to predict the sales of a product based on the advertising budget spent on TV. In a linear regression model, the equation might look like this: sales = 50 + 0.5 * TV_budget. \n",
    " \n",
    "Interpretation: \n",
    "- The intercept (50) represents the expected sales when the TV advertising budget is zero. \n",
    "- The slope (0.5) indicates that for every additional unit increase in the TV advertising budget, sales are expected to increase by 0.5 units. \n",
    " \n",
    "Therefore, in this example, the intercept represents the baseline sales without any advertising, and the slope represents the impact of TV advertising on sales."
   ]
  },
  {
   "cell_type": "markdown",
   "metadata": {},
   "source": [
    "Q4. Explain the concept of gradient descent. How is it used in machine learning?\n",
    "<br>\n",
    "Ans. Gradient descent is an optimization algorithm used in ml to minimize the error or loss function of model. The basic idea behind gradient descent is to iteratively adjust the parameter of a model in the direction that reduces the error the most.\n",
    "<br>\n",
    "How its works\n",
    "1. Calculate the gradient of the loss function with respect to each parameter of the parameter\n",
    "2. Update the parameter in the opposite direction of the gradient to minimize the loss function \n",
    "3. Repeat the process untill the algorithm converges to a minimum\n"
   ]
  },
  {
   "cell_type": "markdown",
   "metadata": {},
   "source": [
    "Q5. Describe the multiple linear regression model. How does it differ from simple linear regression?\n",
    "<br>\n",
    "Ans. Multiple linear regression model is a statistical technique use in model for find the relationship b/w multiple independent varibles and a single dependent variable. \n",
    "<br>\n",
    "eq of line will be like  y=M1X1+M2X2+...+MnXn +C <br>\n",
    "where <br>\n",
    "y is the depenedent varible \n",
    "C is a interpect of line \n",
    "M1,M2 is a slope of ine\n",
    "\n",
    "Main differences from simple linear regression is that in simple linear regression we have only one independent varible where in multiple linear regression we have more that one independent variables."
   ]
  },
  {
   "cell_type": "markdown",
   "metadata": {},
   "source": [
    "Q6. Explain the concept of multicollinearity in multiple linear regression. How can you detect and\n",
    "address this issue?<br>\n",
    "Ans. Multicollinearity in multiple linear regression refers to the situation where two or more independent varibles in the models are highly correlated with other. This can cause issues in the regression analyis such as unstable parameter estimates inflated standard errors\n",
    "<br>\n",
    "To detect multicollinearity in a multiple linear regression we can use following methods:\n",
    "<br>\n",
    "1. Calculate the correlation matrix- > to see which indendepent varible are high correlected to each other\n",
    "2. VLF (variance inflation factor) - > calculate the VIF for each independent varible if VIF greater than 10 indicates multicollinearity .\n",
    "\n",
    "\n",
    "\n",
    "To address the issue :\n",
    "1. Remove one or more highly correlated vraiables from the model\n",
    "2. Combine the correlatedd variables into a single variables \n",
    "3. Use regualrization techniques such as ridge regression or lasso regression which can help reduce the impact of multicollinearity on the model \n"
   ]
  },
  {
   "cell_type": "code",
   "execution_count": null,
   "metadata": {},
   "outputs": [],
   "source": [
    "# Compute VIF for each predictor variable\n",
    "from statsmodels.stats.outliers_influence import variance_inflation_factor\n",
    "\n",
    "def calculate_vif(df):\n",
    "    vif = pd.DataFrame()\n",
    "    vif[\"Variable\"] = df.columns\n",
    "    vif[\"VIF\"] = [variance_inflation_factor(df.values, i) for i in range(df.shape[1])]\n",
    "    return vif\n",
    "\n",
    "print(calculate_vif(data))\n"
   ]
  },
  {
   "cell_type": "markdown",
   "metadata": {},
   "source": [
    "Q7. Describe the polynomial regression model. How is it different from linear regression?\n",
    "<br>\n",
    "Ans. Polynomial regression is a type of regression analysis where the relationship between the independent variable(s) and the dependent variable is modeled as an nth degree polynomial. In simple terms, it involves fitting a curve to the data points rather than a straight line. \n",
    " \n",
    "The main difference between polynomial regression and linear regression is the form of the relationship between the independent and dependent variables. In linear regression, the relationship is modeled as a straight line (first-degree polynomial), while in polynomial regression, higher-degree polynomials can be used to capture more complex relationships in the data. "
   ]
  },
  {
   "cell_type": "markdown",
   "metadata": {},
   "source": [
    "Q8. What are the advantages and disadvantages of polynomial regression compared to linear\n",
    "regression? In what situations would you prefer to use polynomial regression?\n",
    "<br>\n",
    "Ans.  Advantages of polynomial regression compared to linear regression: \n",
    "1. Can capture non-linear relationships: Polynomial regression can model more complex relationships between the independent and dependent variables compared to linear regression. \n",
    "2. Flexibility: The ability to use higher-degree polynomials allows for more flexibility in fitting the data. \n",
    "3. Better fit: In cases where the relationship between variables is non-linear, polynomial regression can provide a better fit to the data compared to linear regression. \n",
    "<br>\n",
    "Situation where polynomial regression may be preferred: \n",
    "1. When the relationship between the independent and dependent variables is non-linear: If the relationship between the variables is not well captured by a straight line, polynomial regression can be a better choice. \n",
    "2. When a better fit is desired: If linear regression does not provide a good fit to the data, polynomial regression can be used to capture the underlying patterns more accurately. "
   ]
  }
 ],
 "metadata": {
  "language_info": {
   "name": "python"
  }
 },
 "nbformat": 4,
 "nbformat_minor": 2
}
